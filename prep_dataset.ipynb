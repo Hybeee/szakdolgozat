{
 "cells": [
  {
   "cell_type": "code",
   "execution_count": 1,
   "metadata": {},
   "outputs": [],
   "source": [
    "import pandas as pd\n",
    "import os\n",
    "import csv"
   ]
  },
  {
   "cell_type": "code",
   "execution_count": 2,
   "metadata": {},
   "outputs": [],
   "source": [
    "fer2013csv_path = \"C:\\\\BME\\\\7_felev\\\\szakdoli\\\\dataset\\\\FER2013Plus\\\\csvs\\\\fer2013.csv\"\n",
    "fer2013newcsv_path = \"C:\\\\BME\\\\7_felev\\\\szakdoli\\\\dataset\\\\FER2013Plus\\\\csvs\\\\fer2013new.csv\""
   ]
  },
  {
   "cell_type": "markdown",
   "metadata": {},
   "source": [
    "### Merge fer2013 and newfer csv files"
   ]
  },
  {
   "cell_type": "code",
   "execution_count": 3,
   "metadata": {},
   "outputs": [],
   "source": [
    "import csv"
   ]
  },
  {
   "cell_type": "code",
   "execution_count": 4,
   "metadata": {},
   "outputs": [],
   "source": [
    "emotion_mapping = {\n",
    "    #FER2013New -> FER2013 \n",
    "    #neutral,happiness,surprise,sadness,anger,disgust,fear,contempt,unknown,NF\n",
    "    #0=Angry, 1=Disgust, 2=Fear, 3=Happy, 4=Sad, 5=Surprise, 6=Neutral\n",
    "    0: 6,  # neutral -> angry\n",
    "    1: 3,  # happiness -> Disgust\n",
    "    2: 5,  # surprise -> Fear\n",
    "    3: 4,  # sadness -> Happy\n",
    "    4: 0,  # anger -> Sad\n",
    "    5: 1,  # disgust -> Surprise\n",
    "    6: 2,  # fear -> Neutral\n",
    "    7: 7,  # contempt -> .\n",
    "    8: 8,  # unknown -> .\n",
    "    9: 9,  # NF -> .\n",
    "}\n",
    "\n",
    "emotion_count_so_far = {\n",
    "    0: 0,  \n",
    "    1: 0,  \n",
    "    2: 0,  \n",
    "    3: 0,  \n",
    "    4: 0,  \n",
    "    5: 0,  \n",
    "    6: 0,  \n",
    "    7: 0,  \n",
    "    8: 0,  \n",
    "    9: 0,  \n",
    "}"
   ]
  },
  {
   "cell_type": "code",
   "execution_count": 5,
   "metadata": {},
   "outputs": [],
   "source": [
    "with open(fer2013csv_path, 'r') as fer, open(fer2013newcsv_path, 'r') as fernew:\n",
    "    reader1 = csv.reader(fer)\n",
    "    reader2 = csv.reader(fernew)\n",
    "    \n",
    "    next(reader1)\n",
    "    next(reader2)\n",
    "    \n",
    "    updated_rows = []\n",
    "    \n",
    "    for line1, line2 in zip(reader1, reader2):\n",
    "        emotions = line2[2: ] # from the 3rd column emotion labels start\n",
    "        \n",
    "        max_emotion_count = max(emotions)\n",
    "        max_emotion_index = -1\n",
    "        \n",
    "        for i in range(len(emotions)):\n",
    "            if emotions[i] == max_emotion_count and max_emotion_index == -1:\n",
    "                max_emotion_index = i\n",
    "            else:\n",
    "                if emotions[i] == max_emotion_count and emotion_count_so_far[max_emotion_index] > emotion_count_so_far[i] and i < 8:\n",
    "                    max_emotion_index = i\n",
    "                    \n",
    "        emotion_count_so_far[max_emotion_index] += 1\n",
    "        \n",
    "        line1[0] = emotion_mapping[max_emotion_index]\n",
    "        if(max_emotion_index != 9 and max_emotion_index != 8): updated_rows.append(line1)"
   ]
  },
  {
   "cell_type": "code",
   "execution_count": 6,
   "metadata": {},
   "outputs": [],
   "source": [
    "with open(\"C:\\\\BME\\\\7_felev\\\\szakdoli\\\\dataset\\\\FER2013Plus\\\\csvs\\\\fer2013_merged.csv\", 'w', newline='') as f:\n",
    "    writer = csv.writer(f)\n",
    "    # Write header\n",
    "    writer.writerow(['emotion', 'pixels', 'Usage'])\n",
    "    writer.writerows(updated_rows)"
   ]
  },
  {
   "cell_type": "markdown",
   "metadata": {},
   "source": [
    "### Create numpy from merged csvs"
   ]
  },
  {
   "cell_type": "code",
   "execution_count": 7,
   "metadata": {},
   "outputs": [
    {
     "name": "stdout",
     "output_type": "stream",
     "text": [
      "data shape: (35488, 3)\n"
     ]
    }
   ],
   "source": [
    "import numpy as np\n",
    "\n",
    "def prepare_data(data):\n",
    "    \"\"\" Prepare data for modeling \n",
    "        input: data frame with labels und pixel data\n",
    "        output: image and label array \"\"\"\n",
    "    \n",
    "    image_array = np.zeros(shape=(len(data), 48, 48))\n",
    "    image_label = np.array(list(map(int, data['emotion'])))\n",
    "    \n",
    "    for i, row in enumerate(data.index):\n",
    "        image = np.fromstring(data.loc[row, 'pixels'], dtype=int, sep=' ')\n",
    "        image = image.reshape(((48, 48)))\n",
    "        image_array[i] = image\n",
    "        \n",
    "    return image_array, image_label\n",
    "\n",
    "data = pd.read_csv('C:\\\\BME\\\\7_felev\\\\szakdoli\\\\dataset\\\\FER2013Plus\\\\csvs\\\\fer2013_merged.csv')\n",
    "print(f\"data shape: {data.shape}\")\n",
    "\n",
    "emotions = {0: 'Angry', 1: 'Disgust', 2: 'Fear', 3: 'Happy', 4: 'Sad', 5: 'Surprise', 6: 'Neutral', 7: 'Contempt'}\n",
    "\n",
    "train_images, train_labels = prepare_data(data[data['Usage']=='Training'])\n",
    "val_images, val_labels = prepare_data(data[data['Usage']=='PrivateTest'])\n",
    "test_images, test_labels = prepare_data(data[data['Usage']=='PublicTest'])"
   ]
  },
  {
   "cell_type": "code",
   "execution_count": 8,
   "metadata": {},
   "outputs": [
    {
     "name": "stdout",
     "output_type": "stream",
     "text": [
      "(28389, 48, 48) (28389,)\n",
      "(3546, 48, 48) (3546,)\n",
      "(3553, 48, 48) (3553,)\n"
     ]
    }
   ],
   "source": [
    "print(f\"{train_images.shape} {train_labels.shape}\")\n",
    "print(f\"{val_images.shape} {val_labels.shape}\")\n",
    "print(f\"{test_images.shape} {test_labels.shape}\")"
   ]
  },
  {
   "cell_type": "code",
   "execution_count": 9,
   "metadata": {},
   "outputs": [
    {
     "name": "stdout",
     "output_type": "stream",
     "text": [
      "6\n"
     ]
    }
   ],
   "source": [
    "print(train_labels[0])"
   ]
  },
  {
   "cell_type": "code",
   "execution_count": 63,
   "metadata": {},
   "outputs": [
    {
     "name": "stdout",
     "output_type": "stream",
     "text": [
      "[0 1 2 3 4 5 6 7]\n",
      "6\n"
     ]
    }
   ],
   "source": [
    "print(np.unique(train_labels))  # Should be [0, 1, 2, 3, 4, 5, 6]"
   ]
  },
  {
   "cell_type": "code",
   "execution_count": 64,
   "metadata": {},
   "outputs": [],
   "source": [
    "from keras.utils import to_categorical\n",
    "\n",
    "train_labels = to_categorical(train_labels)\n",
    "val_labels = to_categorical(val_labels)\n",
    "test_labels = to_categorical(test_labels)"
   ]
  },
  {
   "cell_type": "code",
   "execution_count": 65,
   "metadata": {},
   "outputs": [
    {
     "name": "stdout",
     "output_type": "stream",
     "text": [
      "[0. 0. 0. 0. 0. 0. 1. 0.]\n"
     ]
    }
   ],
   "source": [
    "print(train_labels[0])"
   ]
  },
  {
   "cell_type": "code",
   "execution_count": 68,
   "metadata": {},
   "outputs": [
    {
     "data": {
      "image/png": "[encoded data removed]",
      "text/plain": [
       "<Figure size 1200x600 with 2 Axes>"
      ]
     },
     "metadata": {},
     "output_type": "display_data"
    }
   ],
   "source": [
    "import matplotlib.pyplot as plt\n",
    "\n",
    "def plot_compare_distributions(array1, array2, title1='', title2=''):\n",
    "    df_array1 = pd.DataFrame()\n",
    "    df_array2 = pd.DataFrame()\n",
    "    df_array1['emotion'] = array1.argmax(axis=1)\n",
    "    df_array2['emotion'] = array2.argmax(axis=1)\n",
    "    \n",
    "    _, axs = plt.subplots(1, 2, figsize=(12, 6), sharey=False)\n",
    "    x = emotions.values()\n",
    "    \n",
    "    y = df_array1['emotion'].value_counts()\n",
    "    keys_missed = list(set(emotions.keys()).difference(set(y.keys())))\n",
    "    for key_missed in keys_missed:\n",
    "        y[key_missed] = 0\n",
    "    axs[0].bar(x, y.sort_index(), color='orange')\n",
    "    axs[0].set_title(title1)\n",
    "    axs[0].grid()\n",
    "    y = df_array2['emotion'].value_counts()\n",
    "    keys_missed = list(set(emotions.keys()).difference(set(y.keys())))\n",
    "    for key_missed in keys_missed:\n",
    "        y[key_missed] = 0\n",
    "    axs[1].bar(x, y.sort_index())\n",
    "    axs[1].set_title(title2)\n",
    "    axs[1].grid()\n",
    "    \n",
    "    plt.show()\n",
    "    \n",
    "plot_compare_distributions(train_labels, val_labels, title1='train labels', title2='val labels')\n"
   ]
  },
  {
   "cell_type": "code",
   "execution_count": 71,
   "metadata": {},
   "outputs": [
    {
     "name": "stdout",
     "output_type": "stream",
     "text": [
      "[0. 0. 0. 0. 0. 0. 1. 0.]\n"
     ]
    }
   ],
   "source": [
    "print(train_labels[0])"
   ]
  },
  {
   "cell_type": "code",
   "execution_count": null,
   "metadata": {},
   "outputs": [],
   "source": [
    "emotions = {0: 'Angry', 1: 'Disgust', 2: 'Fear', 3: 'Happy', 4: 'Sad', 5: 'Surprise', 6: 'Neutral', 7: 'Contempt'}"
   ]
  },
  {
   "cell_type": "code",
   "execution_count": 73,
   "metadata": {},
   "outputs": [
    {
     "name": "stdout",
     "output_type": "stream",
     "text": [
      "[ 3313.   348.  1043.  9353.  4821.  4445. 11859.   306.]\n"
     ]
    }
   ],
   "source": [
    "def sum_labels(train_labels, val_labels, test_labels):\n",
    "    # Convert lists to numpy arrays if they are not already\n",
    "    train_labels = np.array(train_labels)\n",
    "    val_labels = np.array(val_labels)\n",
    "    test_labels = np.array(test_labels)\n",
    "    \n",
    "    # Sum up the labels\n",
    "    total_sum = np.sum(train_labels, axis=0) + np.sum(val_labels, axis=0) + np.sum(test_labels, axis=0)\n",
    "    \n",
    "    return total_sum\n",
    "\n",
    "\n",
    "result = sum_labels(train_labels, val_labels, test_labels)\n",
    "print(result)"
   ]
  },
  {
   "cell_type": "code",
   "execution_count": 76,
   "metadata": {},
   "outputs": [],
   "source": [
    "save_dir = \"C:\\\\BME\\\\7_felev\\\\szakdoli\\\\dataset\\\\FER2013Plus\\\\numpy_data\"\n",
    "\n",
    "np.save(os.path.join(save_dir, 'train_images.npy'), train_images)\n",
    "np.save(os.path.join(save_dir, 'train_labels.npy'), train_labels)\n",
    "\n",
    "np.save(os.path.join(save_dir, 'val_images.npy'), val_images)\n",
    "np.save(os.path.join(save_dir, 'val_labels.npy'), val_labels)\n",
    "\n",
    "np.save(os.path.join(save_dir, 'test_images.npy'), test_images)\n",
    "np.save(os.path.join(save_dir, 'test_labels.npy'), test_labels)"
   ]
  }
 ],
 "metadata": {
  "kernelspec": {
   "display_name": "Python 3",
   "language": "python",
   "name": "python3"
  },
  "language_info": {
   "codemirror_mode": {
    "name": "ipython",
    "version": 3
   },
   "file_extension": ".py",
   "mimetype": "text/x-python",
   "name": "python",
   "nbconvert_exporter": "python",
   "pygments_lexer": "ipython3",
   "version": "3.11.6"
  }
 },
 "nbformat": 4,
 "nbformat_minor": 2
}
